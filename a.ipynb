{
 "cells": [
  {
   "cell_type": "code",
   "execution_count": null,
   "metadata": {},
   "outputs": [],
   "source": [
    "{'invitee_publisher_error': False, 'today': '2025-03-15', 'availability_timezone': 'America/Los_Angeles', 'days': [{'date': '2025-03-15', 'status': 'unavailable', 'spots': [], 'enabled': False}, {'date': '2025-03-16', 'status': 'unavailable', 'spots': [], 'enabled': False}, {'date': '2025-03-17', 'status': 'available', 'spots': [{'status': 'available', 'start_time': '2025-03-17T09:00:00-07:00', 'invitees_remaining': 1}, {'status': 'available', 'start_time': '2025-03-17T09:30:00-07:00', 'invitees_remaining': 1}, {'status': 'available', 'start_time': '2025-03-17T10:00:00-07:00', 'invitees_remaining': 1}, {'status': 'available', 'start_time': '2025-03-17T10:30:00-07:00', 'invitees_remaining': 1}, {'status': 'available', 'start_time': '2025-03-17T11:00:00-07:00', 'invitees_remaining': 1}, {'status': 'available', 'start_time': '2025-03-17T11:30:00-07:00', 'invitees_remaining': 1}, {'status': 'available', 'start_time': '2025-03-17T12:00:00-07:00', 'invitees_remaining': 1}, {'status': 'available', 'start_time': '2025-03-17T12:30:00-07:00', 'invitees_remaining': 1}, {'status': 'available', 'start_time': '2025-03-17T13:00:00-07:00', 'invitees_remaining': 1}, {'status': 'available', 'start_time': '2025-03-17T13:30:00-07:00', 'invitees_remaining': 1}, {'status': 'available', 'start_time': '2025-03-17T14:00:00-07:00', 'invitees_remaining': 1}, {'status': 'available', 'start_time': '2025-03-17T14:30:00-07:00', 'invitees_remaining': 1}, {'status': 'available', 'start_time': '2025-03-17T15:00:00-07:00', 'invitees_remaining': 1}, {'status': 'available', 'start_time': '2025-03-17T15:30:00-07:00', 'invitees_remaining': 1}, {'status': 'available', 'start_time': '2025-03-17T16:00:00-07:00', 'invitees_remaining': 1}, {'status': 'available', 'start_time': '2025-03-17T16:30:00-07:00', 'invitees_remaining': 1}], 'enabled': True}, {'date': '2025-03-18', 'status': 'available', 'spots': [{'status': 'available', 'start_time': '2025-03-18T09:00:00-07:00', 'invitees_remaining': 1}, {'status': 'available', 'start_time': '2025-03-18T09:30:00-07:00', 'invitees_remaining': 1}, {'status': 'available', 'start_time': '2025-03-18T10:00:00-07:00', 'invitees_remaining': 1}, {'status': 'available', 'start_time': '2025-03-18T10:30:00-07:00', 'invitees_remaining': 1}, {'status': 'available', 'start_time': '2025-03-18T11:00:00-07:00', 'invitees_remaining': 1}, {'status': 'available', 'start_time': '2025-03-18T11:30:00-07:00', 'invitees_remaining': 1}, {'status': 'available', 'start_time': '2025-03-18T12:00:00-07:00', 'invitees_remaining': 1}, {'status': 'available', 'start_time': '2025-03-18T12:30:00-07:00', 'invitees_remaining': 1}, {'status': 'available', 'start_time': '2025-03-18T13:00:00-07:00', 'invitees_remaining': 1}, {'status': 'available', 'start_time': '2025-03-18T13:30:00-07:00', 'invitees_remaining': 1}, {'status': 'available', 'start_time': '2025-03-18T14:00:00-07:00', 'invitees_remaining': 1}, {'status': 'available', 'start_time': '2025-03-18T14:30:00-07:00', 'invitees_remaining': 1}, {'status': 'available', 'start_time': '2025-03-18T15:00:00-07:00', 'invitees_remaining': 1}, {'status': 'available', 'start_time': '2025-03-18T15:30:00-07:00', 'invitees_remaining': 1}, {'status': 'available', 'start_time': '2025-03-18T16:00:00-07:00', 'invitees_remaining': 1}, {'status': 'available', 'start_time': '2025-03-18T16:30:00-07:00', 'invitees_remaining': 1}], 'enabled': True}, {'date': '2025-03-19', 'status': 'available', 'spots': [{'status': 'available', 'start_time': '2025-03-19T09:00:00-07:00', 'invitees_remaining': 1}, {'status': 'available', 'start_time': '2025-03-19T09:30:00-07:00', 'invitees_remaining': 1}, {'status': 'available', 'start_time': '2025-03-19T10:00:00-07:00', 'invitees_remaining': 1}, {'status': 'available', 'start_time': '2025-03-19T10:30:00-07:00', 'invitees_remaining': 1}, {'status': 'available', 'start_time': '2025-03-19T11:00:00-07:00', 'invitees_remaining': 1}, {'status': 'available', 'start_time': '2025-03-19T11:30:00-07:00', 'invitees_remaining': 1}, {'status': 'available', 'start_time': '2025-03-19T12:00:00-07:00', 'invitees_remaining': 1}, {'status': 'available', 'start_time': '2025-03-19T12:30:00-07:00', 'invitees_remaining': 1}, {'status': 'available', 'start_time': '2025-03-19T13:00:00-07:00', 'invitees_remaining': 1}, {'status': 'available', 'start_time': '2025-03-19T13:30:00-07:00', 'invitees_remaining': 1}, {'status': 'available', 'start_time': '2025-03-19T14:00:00-07:00', 'invitees_remaining': 1}, {'status': 'available', 'start_time': '2025-03-19T14:30:00-07:00', 'invitees_remaining': 1}, {'status': 'available', 'start_time': '2025-03-19T15:00:00-07:00', 'invitees_remaining': 1}, {'status': 'available', 'start_time': '2025-03-19T15:30:00-07:00', 'invitees_remaining': 1}, {'status': 'available', 'start_time': '2025-03-19T16:00:00-07:00', 'invitees_remaining': 1}, {'status': 'available', 'start_time': '2025-03-19T16:30:00-07:00', 'invitees_remaining': 1}], 'enabled': True}, {'date': '2025-03-20', 'status': 'available', 'spots': [{'status': 'available', 'start_time': '2025-03-20T09:00:00-07:00', 'invitees_remaining': 1}, {'status': 'available', 'start_time': '2025-03-20T09:30:00-07:00', 'invitees_remaining': 1}, {'status': 'available', 'start_time': '2025-03-20T10:00:00-07:00', 'invitees_remaining': 1}, {'status': 'available', 'start_time': '2025-03-20T10:30:00-07:00', 'invitees_remaining': 1}, {'status': 'available', 'start_time': '2025-03-20T11:00:00-07:00', 'invitees_remaining': 1}, {'status': 'available', 'start_time': '2025-03-20T11:30:00-07:00', 'invitees_remaining': 1}, {'status': 'available', 'start_time': '2025-03-20T12:00:00-07:00', 'invitees_remaining': 1}, {'status': 'available', 'start_time': '2025-03-20T12:30:00-07:00', 'invitees_remaining': 1}, {'status': 'available', 'start_time': '2025-03-20T13:00:00-07:00', 'invitees_remaining': 1}, {'status': 'available', 'start_time': '2025-03-20T13:30:00-07:00', 'invitees_remaining': 1}, {'status': 'available', 'start_time': '2025-03-20T14:00:00-07:00', 'invitees_remaining': 1}, {'status': 'available', 'start_time': '2025-03-20T14:30:00-07:00', 'invitees_remaining': 1}, {'status': 'available', 'start_time': '2025-03-20T15:00:00-07:00', 'invitees_remaining': 1}, {'status': 'available', 'start_time': '2025-03-20T15:30:00-07:00', 'invitees_remaining': 1}, {'status': 'available', 'start_time': '2025-03-20T16:00:00-07:00', 'invitees_remaining': 1}, {'status': 'available', 'start_time': '2025-03-20T16:30:00-07:00', 'invitees_remaining': 1}], 'enabled': True}, {'date': '2025-03-21', 'status': 'available', 'spots': [{'status': 'available', 'start_time': '2025-03-21T09:00:00-07:00', 'invitees_remaining': 1}, {'status': 'available', 'start_time': '2025-03-21T09:30:00-07:00', 'invitees_remaining': 1}, {'status': 'available', 'start_time': '2025-03-21T10:00:00-07:00', 'invitees_remaining': 1}, {'status': 'available', 'start_time': '2025-03-21T10:30:00-07:00', 'invitees_remaining': 1}, {'status': 'available', 'start_time': '2025-03-21T11:00:00-07:00', 'invitees_remaining': 1}, {'status': 'available', 'start_time': '2025-03-21T11:30:00-07:00', 'invitees_remaining': 1}, {'status': 'available', 'start_time': '2025-03-21T12:00:00-07:00', 'invitees_remaining': 1}, {'status': 'available', 'start_time': '2025-03-21T12:30:00-07:00', 'invitees_remaining': 1}, {'status': 'available', 'start_time': '2025-03-21T13:00:00-07:00', 'invitees_remaining': 1}, {'status': 'available', 'start_time': '2025-03-21T13:30:00-07:00', 'invitees_remaining': 1}, {'status': 'available', 'start_time': '2025-03-21T14:00:00-07:00', 'invitees_remaining': 1}, {'status': 'available', 'start_time': '2025-03-21T14:30:00-07:00', 'invitees_remaining': 1}, {'status': 'available', 'start_time': '2025-03-21T15:00:00-07:00', 'invitees_remaining': 1}, {'status': 'available', 'start_time': '2025-03-21T15:30:00-07:00', 'invitees_remaining': 1}, {'status': 'available', 'start_time': '2025-03-21T16:00:00-07:00', 'invitees_remaining': 1}, {'status': 'available', 'start_time': '2025-03-21T16:30:00-07:00', 'invitees_remaining': 1}], 'enabled': True}]}"
   ]
  },
  {
   "cell_type": "code",
   "execution_count": null,
   "metadata": {},
   "outputs": [
    {
     "name": "stderr",
     "output_type": "stream",
     "text": [
      "Error occurred during getting browser(s): _ipython_canary_method_should_not_exist_, but was suppressed with fallback.\n",
      "Error occurred during getting browser(s): _ipython_canary_method_should_not_exist_, but was suppressed with fallback.\n",
      "Error occurred during getting browser(s): _ipython_canary_method_should_not_exist_, but was suppressed with fallback.\n",
      "Error occurred during getting browser(s): _ipython_canary_method_should_not_exist_, but was suppressed with fallback.\n",
      "Error occurred during getting browser(s): _ipython_canary_method_should_not_exist_, but was suppressed with fallback.\n",
      "Error occurred during getting browser(s): _ipython_canary_method_should_not_exist_, but was suppressed with fallback.\n",
      "Error occurred during getting browser(s): _ipython_canary_method_should_not_exist_, but was suppressed with fallback.\n",
      "Error occurred during getting browser(s): _ipython_canary_method_should_not_exist_, but was suppressed with fallback.\n",
      "Error occurred during getting browser(s): _ipython_canary_method_should_not_exist_, but was suppressed with fallback.\n",
      "Error occurred during getting browser(s): _ipython_canary_method_should_not_exist_, but was suppressed with fallback.\n",
      "Error occurred during getting browser(s): _ipython_canary_method_should_not_exist_, but was suppressed with fallback.\n"
     ]
    },
    {
     "data": {
      "text/plain": [
       "<fake_useragent.fake.FakeUserAgent at 0x7f6b78cf41d0>"
      ]
     },
     "execution_count": 2,
     "metadata": {},
     "output_type": "execute_result"
    }
   ],
   "source": [
    "from fake_useragent import UserAgent\n",
    "\n",
    "user_agent = UserAgent().random\n",
    "user_agent\n"
   ]
  }
 ],
 "metadata": {
  "kernelspec": {
   "display_name": ".venv",
   "language": "python",
   "name": "python3"
  },
  "language_info": {
   "codemirror_mode": {
    "name": "ipython",
    "version": 3
   },
   "file_extension": ".py",
   "mimetype": "text/x-python",
   "name": "python",
   "nbconvert_exporter": "python",
   "pygments_lexer": "ipython3",
   "version": "3.12.3"
  }
 },
 "nbformat": 4,
 "nbformat_minor": 2
}
